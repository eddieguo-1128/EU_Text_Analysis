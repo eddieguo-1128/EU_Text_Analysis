{
  "cells": [
    {
      "cell_type": "code",
      "execution_count": null,
      "id": "91431e77-95b0-4c99-b74e-8e2aaeaa9b1c",
      "metadata": {
        "id": "91431e77-95b0-4c99-b74e-8e2aaeaa9b1c"
      },
      "outputs": [],
      "source": [
        "import pandas as pd\n",
        "import numpy as np\n",
        "import matplotlib.pyplot as plt\n",
        "import imblearn\n",
        "import imblearn.over_sampling\n",
        "import imblearn.combine\n",
        "import sklearn\n",
        "from sklearn import model_selection"
      ]
    },
    {
      "cell_type": "markdown",
      "id": "0bf38ddc-88a2-4489-aeea-2bd8f6b239b3",
      "metadata": {
        "id": "0bf38ddc-88a2-4489-aeea-2bd8f6b239b3"
      },
      "source": [
        "### Desc:\n",
        "Here I'm just exploring the data and seeing our distribution and what a question looks like."
      ]
    },
    {
      "cell_type": "code",
      "execution_count": null,
      "id": "2cdf94dc-c0e7-4c1c-b8a4-e71ee70248dc",
      "metadata": {
        "id": "2cdf94dc-c0e7-4c1c-b8a4-e71ee70248dc",
        "outputId": "b4de896c-0025-4146-9f4c-a9fb2ef8ceb6"
      },
      "outputs": [
        {
          "data": {
            "text/html": [
              "<div>\n",
              "<style scoped>\n",
              "    .dataframe tbody tr th:only-of-type {\n",
              "        vertical-align: middle;\n",
              "    }\n",
              "\n",
              "    .dataframe tbody tr th {\n",
              "        vertical-align: top;\n",
              "    }\n",
              "\n",
              "    .dataframe thead th {\n",
              "        text-align: right;\n",
              "    }\n",
              "</style>\n",
              "<table border=\"1\" class=\"dataframe\">\n",
              "  <thead>\n",
              "    <tr style=\"text-align: right;\">\n",
              "      <th></th>\n",
              "      <th>Question_Text</th>\n",
              "      <th>Question_ID</th>\n",
              "      <th>Euroskepticism_Score</th>\n",
              "    </tr>\n",
              "  </thead>\n",
              "  <tbody>\n",
              "    <tr>\n",
              "      <th>0</th>\n",
              "      <td>The introduction of smart meters is required u...</td>\n",
              "      <td>E-1597/09</td>\n",
              "      <td>0</td>\n",
              "    </tr>\n",
              "    <tr>\n",
              "      <th>1</th>\n",
              "      <td>I have been informed in connection with the hu...</td>\n",
              "      <td>P-2182/04</td>\n",
              "      <td>0</td>\n",
              "    </tr>\n",
              "    <tr>\n",
              "      <th>2</th>\n",
              "      <td>A few days ago the Italian press reported an a...</td>\n",
              "      <td>E-3260/07</td>\n",
              "      <td>0</td>\n",
              "    </tr>\n",
              "    <tr>\n",
              "      <th>3</th>\n",
              "      <td>In 2000 the EKAB air rescue fleet was set up w...</td>\n",
              "      <td>E-1822/03</td>\n",
              "      <td>0</td>\n",
              "    </tr>\n",
              "    <tr>\n",
              "      <th>4</th>\n",
              "      <td>Is the Commission aware of the UK Citizens Adv...</td>\n",
              "      <td>E-3867/03</td>\n",
              "      <td>0</td>\n",
              "    </tr>\n",
              "  </tbody>\n",
              "</table>\n",
              "</div>"
            ],
            "text/plain": [
              "                                       Question_Text Question_ID  \\\n",
              "0  The introduction of smart meters is required u...   E-1597/09   \n",
              "1  I have been informed in connection with the hu...   P-2182/04   \n",
              "2  A few days ago the Italian press reported an a...   E-3260/07   \n",
              "3  In 2000 the EKAB air rescue fleet was set up w...   E-1822/03   \n",
              "4  Is the Commission aware of the UK Citizens Adv...   E-3867/03   \n",
              "\n",
              "   Euroskepticism_Score  \n",
              "0                     0  \n",
              "1                     0  \n",
              "2                     0  \n",
              "3                     0  \n",
              "4                     0  "
            ]
          },
          "execution_count": 2,
          "metadata": {},
          "output_type": "execute_result"
        }
      ],
      "source": [
        "data = pd.read_csv(\"../data/merged_scores.csv\", index_col=0)\n",
        "data.head()"
      ]
    },
    {
      "cell_type": "code",
      "execution_count": null,
      "id": "456c4875-826b-4e28-bbe5-218c1a3402a8",
      "metadata": {
        "id": "456c4875-826b-4e28-bbe5-218c1a3402a8",
        "outputId": "70b9ddb4-255e-4dc3-8658-2dff614cbe9a"
      },
      "outputs": [
        {
          "data": {
            "text/plain": [
              "0    3427\n",
              "1      81\n",
              "Name: Euroskepticism_Score, dtype: int64"
            ]
          },
          "execution_count": 3,
          "metadata": {},
          "output_type": "execute_result"
        }
      ],
      "source": [
        "data[\"Euroskepticism_Score\"].value_counts()"
      ]
    },
    {
      "cell_type": "code",
      "execution_count": null,
      "id": "9d916599-fe08-45aa-bc3c-76acf02f2cee",
      "metadata": {
        "id": "9d916599-fe08-45aa-bc3c-76acf02f2cee",
        "outputId": "f86da94d-a62a-4fc1-8145-c9d4f02ed6e7"
      },
      "outputs": [
        {
          "data": {
            "image/png": "[encoded data removed]",
            "text/plain": [
              "<Figure size 432x288 with 1 Axes>"
            ]
          },
          "metadata": {
            "needs_background": "light"
          },
          "output_type": "display_data"
        }
      ],
      "source": [
        "plt.bar(x=data[\"Euroskepticism_Score\"].value_counts().index, height=data[\"Euroskepticism_Score\"].value_counts().values)\n",
        "plt.show()"
      ]
    },
    {
      "cell_type": "code",
      "execution_count": null,
      "id": "93821bc8-885b-4e18-ba62-baabef8cc330",
      "metadata": {
        "id": "93821bc8-885b-4e18-ba62-baabef8cc330",
        "outputId": "2d3be239-d582-4200-dad0-3e362cd01b43"
      },
      "outputs": [
        {
          "data": {
            "text/plain": [
              "'On 8 November 2012 Euratex sent a letter to Commissioner Karel de Gucht expressing the EU textile industrys concern over the possible  of negotiations between the EU and Canada. In recent years the EU textile industry has struggled with major problems in terms of  systematically serving as a bargaining chip for trade agreements with third countries. The recent agreement with Pakistan was very damaging for the EU textile industry. The CETA Canada-EU Trade Agreement does not currently provide the desirable reciprocity and will undoubtedly lead to further imbalance in the industry. The EU has always favoured double transformation as a way to obtain preferential origin. Canada has advocated the single transformation rule as its supply chain is included in the North American Free Trade Agreement and a substantial proportion of the supplies are made in Asia. The Canadian textile industry has little  to that of the EU. How does the Commission view this situation Given that Canada intends to qualify for an exception through this agreement despite not being a least developed country does it believe that it is fair and acceptable to set a precedent for future agreements that will seriously harm the already weakened EU textile industry What is the state of play of these negotiations and how will the EU benefit from this agreement  PT C 340 E 21/11/2013'"
            ]
          },
          "execution_count": 5,
          "metadata": {},
          "output_type": "execute_result"
        }
      ],
      "source": [
        "data[data[\"Euroskepticism_Score\"] == 1][\"Question_Text\"].iloc[0]"
      ]
    },
    {
      "cell_type": "code",
      "execution_count": null,
      "id": "0a0fe1b4-a90a-42c8-80be-86cea4161590",
      "metadata": {
        "id": "0a0fe1b4-a90a-42c8-80be-86cea4161590",
        "outputId": "71ed7af6-6a95-49ea-eecc-fdc4dad183f6"
      },
      "outputs": [
        {
          "data": {
            "text/plain": [
              "'The Commission has launched detailed enquiries into the tax arrangements for ports in Belgium France and the Netherlands in order to make sure that they are in line with the EUs state aid rules. These enquiries which are at various stages  are a follow-up to a Commission questionnaire that was sent to Member States on tax arrangements for European ports. While the Commissions decision to  on a case-by-case basis is understandable it is astonishing that no detailed report has yet been published on the results of the study given that the questionnaire was sent to the Member States on 3 July 2013.  For the sake of transparency will the Commission make the results of the study publicly available or at the very least send them to Parliament In the light of the results of that study can the Commission confirm that no Member States other than those currently being subjected to detailed enquiries give ports special tax arrangements that can be considered state aid'"
            ]
          },
          "execution_count": 6,
          "metadata": {},
          "output_type": "execute_result"
        }
      ],
      "source": [
        "data[data[\"Euroskepticism_Score\"] == 1][\"Question_Text\"].iloc[1]"
      ]
    },
    {
      "cell_type": "markdown",
      "id": "52d3d8e8-93e7-4d91-a35d-82bef5c54d66",
      "metadata": {
        "id": "52d3d8e8-93e7-4d91-a35d-82bef5c54d66"
      },
      "source": [
        "### Desc:\n",
        "Here I'm confirming a notion I had that may be causing our poor performance - we see that we're creating a more balanced dataset by oversampling before we split into train and test (according to the previous BERT model). This is causing our model to know instances of the test before evaluation - causing high validation scores but extremeley low test accuracy scores."
      ]
    },
    {
      "cell_type": "code",
      "execution_count": null,
      "id": "d00fe887-22d1-4074-b628-94c0665b2eef",
      "metadata": {
        "id": "d00fe887-22d1-4074-b628-94c0665b2eef",
        "outputId": "3102c597-4239-40b6-90d8-39aa6aee954f"
      },
      "outputs": [
        {
          "data": {
            "text/html": [
              "<div>\n",
              "<style scoped>\n",
              "    .dataframe tbody tr th:only-of-type {\n",
              "        vertical-align: middle;\n",
              "    }\n",
              "\n",
              "    .dataframe tbody tr th {\n",
              "        vertical-align: top;\n",
              "    }\n",
              "\n",
              "    .dataframe thead th {\n",
              "        text-align: right;\n",
              "    }\n",
              "</style>\n",
              "<table border=\"1\" class=\"dataframe\">\n",
              "  <thead>\n",
              "    <tr style=\"text-align: right;\">\n",
              "      <th></th>\n",
              "      <th>Question_Text</th>\n",
              "      <th>Question_ID</th>\n",
              "      <th>Euroskepticism_Score</th>\n",
              "      <th>Nationalism_Score</th>\n",
              "      <th>Populism_Score</th>\n",
              "      <th>Question_Text_Lower</th>\n",
              "    </tr>\n",
              "  </thead>\n",
              "  <tbody>\n",
              "    <tr>\n",
              "      <th>0</th>\n",
              "      <td>Further to the answer it gave to my Question E...</td>\n",
              "      <td>E-013527-13</td>\n",
              "      <td>0.0</td>\n",
              "      <td>0.0</td>\n",
              "      <td>0.0</td>\n",
              "      <td>further to the answer it gave to my question e...</td>\n",
              "    </tr>\n",
              "    <tr>\n",
              "      <th>1</th>\n",
              "      <td>In Italy as in many other Member States legal ...</td>\n",
              "      <td>E-001570-13</td>\n",
              "      <td>1.0</td>\n",
              "      <td>0.0</td>\n",
              "      <td>1.0</td>\n",
              "      <td>in italy as in many other member states legal ...</td>\n",
              "    </tr>\n",
              "    <tr>\n",
              "      <th>2</th>\n",
              "      <td>On 1 September 2013 Iraqi forces carried out a...</td>\n",
              "      <td>P-010965-13</td>\n",
              "      <td>0.0</td>\n",
              "      <td>0.0</td>\n",
              "      <td>0.0</td>\n",
              "      <td>on 1 september 2013 iraqi forces carried out a...</td>\n",
              "    </tr>\n",
              "    <tr>\n",
              "      <th>3</th>\n",
              "      <td>In the Work Programme of the Agency for the Co...</td>\n",
              "      <td>E-011939-13</td>\n",
              "      <td>0.0</td>\n",
              "      <td>0.0</td>\n",
              "      <td>0.0</td>\n",
              "      <td>in the work programme of the agency for the co...</td>\n",
              "    </tr>\n",
              "    <tr>\n",
              "      <th>4</th>\n",
              "      <td>Identification marking on foods which are avai...</td>\n",
              "      <td>E-003034-13</td>\n",
              "      <td>0.0</td>\n",
              "      <td>0.0</td>\n",
              "      <td>0.0</td>\n",
              "      <td>identification marking on foods which are avai...</td>\n",
              "    </tr>\n",
              "  </tbody>\n",
              "</table>\n",
              "</div>"
            ],
            "text/plain": [
              "                                       Question_Text  Question_ID  \\\n",
              "0  Further to the answer it gave to my Question E...  E-013527-13   \n",
              "1  In Italy as in many other Member States legal ...  E-001570-13   \n",
              "2  On 1 September 2013 Iraqi forces carried out a...  P-010965-13   \n",
              "3  In the Work Programme of the Agency for the Co...  E-011939-13   \n",
              "4  Identification marking on foods which are avai...  E-003034-13   \n",
              "\n",
              "   Euroskepticism_Score  Nationalism_Score  Populism_Score  \\\n",
              "0                   0.0                0.0             0.0   \n",
              "1                   1.0                0.0             1.0   \n",
              "2                   0.0                0.0             0.0   \n",
              "3                   0.0                0.0             0.0   \n",
              "4                   0.0                0.0             0.0   \n",
              "\n",
              "                                 Question_Text_Lower  \n",
              "0  further to the answer it gave to my question e...  \n",
              "1  in italy as in many other member states legal ...  \n",
              "2  on 1 september 2013 iraqi forces carried out a...  \n",
              "3  in the work programme of the agency for the co...  \n",
              "4  identification marking on foods which are avai...  "
            ]
          },
          "metadata": {},
          "output_type": "display_data"
        },
        {
          "name": "stderr",
          "output_type": "stream",
          "text": [
            "/Users/nicklin/opt/anaconda3/envs/defaultenv/lib/python3.10/site-packages/imblearn/utils/_validation.py:586: FutureWarning: Pass sampling_strategy=0.35 as keyword args. From version 0.9 passing these as positional arguments will result in an error\n",
            "  warnings.warn(\n"
          ]
        }
      ],
      "source": [
        "df = pd.read_csv('../bert/data/cleaned.csv')\n",
        "list_classes = ['Euroskepticism_Score']\n",
        "ratio = 0.35\n",
        "\n",
        "display(df.head(5))\n",
        "x = np.asarray(df.index).reshape(-1, 1)\n",
        "y = df[list_classes]\n",
        "\n",
        "x_resampled, y_resampled = imblearn.over_sampling.ADASYN(ratio).fit_resample(x, y) #this is where the imbalanced learning process happens\n",
        "x_resampled, y_resampled = imblearn.combine.SMOTETomek().fit_resample(x, y)\n",
        "\n",
        "freq_map = {}\n",
        "for x in x_resampled:\n",
        "    if x[0] in freq_map:\n",
        "        freq_map[x[0]] += 1\n",
        "    else:\n",
        "        freq_map[x[0]] = 1\n",
        "        \n",
        "out = {k: v for k, v in sorted(freq_map.items(), key=lambda item: item[1], reverse=True)}\n",
        "# print(out)\n"
      ]
    },
    {
      "cell_type": "code",
      "execution_count": null,
      "id": "d098cb68-f7ba-421c-9f62-c4606e976875",
      "metadata": {
        "id": "d098cb68-f7ba-421c-9f62-c4606e976875",
        "outputId": "8b7bce4e-e82e-4a2a-f719-f0c802bfb696"
      },
      "outputs": [
        {
          "data": {
            "text/plain": [
              "510"
            ]
          },
          "execution_count": 8,
          "metadata": {},
          "output_type": "execute_result"
        }
      ],
      "source": [
        "longest_question = df['Question_Text'].str.split().map(lambda x: len(x)).max()\n",
        "longest_question"
      ]
    },
    {
      "cell_type": "markdown",
      "id": "a8d631d4-e07d-4991-bf7a-c8ee8ab1ccd6",
      "metadata": {
        "id": "a8d631d4-e07d-4991-bf7a-c8ee8ab1ccd6"
      },
      "source": [
        "### Desc:\n",
        "\n",
        "Now I'm going to attempt to clean the data a bit by tokenizing, removing stopwords, stemming, lemmatizing, etc. Here I'll also clean out punctuation but we may want to revise this step later if we decide to split sentences up."
      ]
    },
    {
      "cell_type": "code",
      "execution_count": null,
      "id": "31af695f-f4fe-483c-8518-c5cff8543b4c",
      "metadata": {
        "id": "31af695f-f4fe-483c-8518-c5cff8543b4c"
      },
      "outputs": [],
      "source": [
        "import nltk\n",
        "from nltk.corpus import treebank \n",
        "from nltk.tree import Tree\n",
        "import string\n",
        "import re\n",
        "import os\n",
        "import argparse"
      ]
    },
    {
      "cell_type": "code",
      "execution_count": null,
      "id": "e70bddfd-ec90-4a75-8b39-5753aac90287",
      "metadata": {
        "id": "e70bddfd-ec90-4a75-8b39-5753aac90287"
      },
      "outputs": [],
      "source": [
        "def remove_punct(text):\n",
        "    text  = \"\".join([char for char in text if char not in string.punctuation])\n",
        "    text = re.sub('[0-9]+', '', text)\n",
        "    return text\n",
        "\n",
        "def tokenization(text):\n",
        "    text = text.strip()\n",
        "    text = re.split('\\W+', text)\n",
        "    return text\n",
        "\n",
        "def remove_stopwords(text):\n",
        "    stopword = nltk.corpus.stopwords.words('english')\n",
        "    text = [word for word in text if word not in stopword]\n",
        "    return text\n",
        "\n",
        "def lemmatizer(text):\n",
        "    wn = nltk.WordNetLemmatizer()\n",
        "    text = [wn.lemmatize(word) for word in text]\n",
        "    return text\n",
        "\n",
        "def clean_text(text):\n",
        "    text = remove_punct(text)\n",
        "    text = tokenization(text)\n",
        "    text = remove_stopwords(text)\n",
        "    text = lemmatizer(text)\n",
        "    return ' '.join(text)"
      ]
    },
    {
      "cell_type": "code",
      "execution_count": null,
      "id": "0c4b9257-ff3c-467b-83ac-94c3337ee5ac",
      "metadata": {
        "id": "0c4b9257-ff3c-467b-83ac-94c3337ee5ac"
      },
      "outputs": [],
      "source": [
        "data['clean_text'] = data['Question_Text'].apply(lambda x : clean_text(x))"
      ]
    },
    {
      "cell_type": "code",
      "execution_count": null,
      "id": "3d5fd4b4-295f-494c-b967-aec391443cf1",
      "metadata": {
        "id": "3d5fd4b4-295f-494c-b967-aec391443cf1",
        "outputId": "e55eff60-c580-4e41-ab30-afa22539db44"
      },
      "outputs": [
        {
          "data": {
            "text/html": [
              "<div>\n",
              "<style scoped>\n",
              "    .dataframe tbody tr th:only-of-type {\n",
              "        vertical-align: middle;\n",
              "    }\n",
              "\n",
              "    .dataframe tbody tr th {\n",
              "        vertical-align: top;\n",
              "    }\n",
              "\n",
              "    .dataframe thead th {\n",
              "        text-align: right;\n",
              "    }\n",
              "</style>\n",
              "<table border=\"1\" class=\"dataframe\">\n",
              "  <thead>\n",
              "    <tr style=\"text-align: right;\">\n",
              "      <th></th>\n",
              "      <th>Question_Text</th>\n",
              "      <th>Question_ID</th>\n",
              "      <th>Euroskepticism_Score</th>\n",
              "      <th>clean_text</th>\n",
              "    </tr>\n",
              "  </thead>\n",
              "  <tbody>\n",
              "    <tr>\n",
              "      <th>0</th>\n",
              "      <td>The introduction of smart meters is required u...</td>\n",
              "      <td>E-1597/09</td>\n",
              "      <td>0</td>\n",
              "      <td>The introduction smart meter required Directiv...</td>\n",
              "    </tr>\n",
              "    <tr>\n",
              "      <th>1</th>\n",
              "      <td>I have been informed in connection with the hu...</td>\n",
              "      <td>P-2182/04</td>\n",
              "      <td>0</td>\n",
              "      <td>I informed connection human minority right sit...</td>\n",
              "    </tr>\n",
              "    <tr>\n",
              "      <th>2</th>\n",
              "      <td>A few days ago the Italian press reported an a...</td>\n",
              "      <td>E-3260/07</td>\n",
              "      <td>0</td>\n",
              "      <td>A day ago Italian press reported alleged case ...</td>\n",
              "    </tr>\n",
              "    <tr>\n",
              "      <th>3</th>\n",
              "      <td>In 2000 the EKAB air rescue fleet was set up w...</td>\n",
              "      <td>E-1822/03</td>\n",
              "      <td>0</td>\n",
              "      <td>In EKAB air rescue fleet set funding provided ...</td>\n",
              "    </tr>\n",
              "    <tr>\n",
              "      <th>4</th>\n",
              "      <td>Is the Commission aware of the UK Citizens Adv...</td>\n",
              "      <td>E-3867/03</td>\n",
              "      <td>0</td>\n",
              "      <td>Is Commission aware UK Citizens Advice Bureaus...</td>\n",
              "    </tr>\n",
              "  </tbody>\n",
              "</table>\n",
              "</div>"
            ],
            "text/plain": [
              "                                       Question_Text Question_ID  \\\n",
              "0  The introduction of smart meters is required u...   E-1597/09   \n",
              "1  I have been informed in connection with the hu...   P-2182/04   \n",
              "2  A few days ago the Italian press reported an a...   E-3260/07   \n",
              "3  In 2000 the EKAB air rescue fleet was set up w...   E-1822/03   \n",
              "4  Is the Commission aware of the UK Citizens Adv...   E-3867/03   \n",
              "\n",
              "   Euroskepticism_Score                                         clean_text  \n",
              "0                     0  The introduction smart meter required Directiv...  \n",
              "1                     0  I informed connection human minority right sit...  \n",
              "2                     0  A day ago Italian press reported alleged case ...  \n",
              "3                     0  In EKAB air rescue fleet set funding provided ...  \n",
              "4                     0  Is Commission aware UK Citizens Advice Bureaus...  "
            ]
          },
          "execution_count": 50,
          "metadata": {},
          "output_type": "execute_result"
        }
      ],
      "source": [
        "data.head(5)"
      ]
    },
    {
      "cell_type": "markdown",
      "id": "e1dc5066-2b14-47b5-b287-5de17bfa7f1a",
      "metadata": {
        "tags": [],
        "id": "e1dc5066-2b14-47b5-b287-5de17bfa7f1a"
      },
      "source": [
        "### Desc:\n",
        "\n",
        "Here I'm splitting the data into train, test, and validation datasets. We can use these as baselines moving forward (no further need to touch any other datasets).\n",
        "\n",
        "For reference, we should use merged_scores_train to do any imbalanced dataset resolving and rely on using validation and test as ways for benchmarks. "
      ]
    },
    {
      "cell_type": "code",
      "execution_count": null,
      "id": "b24ab54c-3c7e-4cef-ba57-6bdb201b2052",
      "metadata": {
        "id": "b24ab54c-3c7e-4cef-ba57-6bdb201b2052"
      },
      "outputs": [],
      "source": [
        "train, test = model_selection.train_test_split(data, test_size = 0.2, random_state=42, shuffle=True)\n",
        "train, validation = model_selection.train_test_split(train, test_size = 0.1, random_state=42, shuffle=True)"
      ]
    },
    {
      "cell_type": "code",
      "execution_count": null,
      "id": "e3f3892f-a683-4201-abab-883629f314b3",
      "metadata": {
        "id": "e3f3892f-a683-4201-abab-883629f314b3",
        "outputId": "a2584673-4e31-487e-82bb-85645e8850f5"
      },
      "outputs": [
        {
          "name": "stdout",
          "output_type": "stream",
          "text": [
            "(2525, 4)\n",
            "(281, 4)\n",
            "(702, 4)\n"
          ]
        }
      ],
      "source": [
        "print(train.shape)\n",
        "print(validation.shape)\n",
        "print(test.shape)"
      ]
    },
    {
      "cell_type": "code",
      "execution_count": null,
      "id": "4e15040a-079c-41fd-9f29-7a03222b7f6a",
      "metadata": {
        "id": "4e15040a-079c-41fd-9f29-7a03222b7f6a"
      },
      "outputs": [],
      "source": [
        "train.to_csv(\"../data/split_merged_scores/merged_scores_train.csv\")\n",
        "validation.to_csv(\"../data/split_merged_scores/merged_scores_validation.csv\")\n",
        "test.to_csv(\"../data/split_merged_scores/merged_scores_test.csv\")"
      ]
    },
    {
      "cell_type": "markdown",
      "id": "42bbf900-5346-485d-8f35-d624c2272add",
      "metadata": {
        "id": "42bbf900-5346-485d-8f35-d624c2272add"
      },
      "source": [
        "### Desc:\n",
        "\n",
        "Now I want to use an oversampling technique on the data. However, I need a way to represent a full question as a float in order to provide the imblearn package with an \"embedding\" or \"representation\" of my sentence. Here I'll use doc2vec to create an embedding of each document."
      ]
    },
    {
      "cell_type": "code",
      "execution_count": null,
      "id": "ac4417df-aa00-4561-971f-1babb305ce9b",
      "metadata": {
        "id": "ac4417df-aa00-4561-971f-1babb305ce9b",
        "outputId": "84745894-65b5-4b87-8c3a-d947e3298696"
      },
      "outputs": [
        {
          "data": {
            "text/html": [
              "<div>\n",
              "<style scoped>\n",
              "    .dataframe tbody tr th:only-of-type {\n",
              "        vertical-align: middle;\n",
              "    }\n",
              "\n",
              "    .dataframe tbody tr th {\n",
              "        vertical-align: top;\n",
              "    }\n",
              "\n",
              "    .dataframe thead th {\n",
              "        text-align: right;\n",
              "    }\n",
              "</style>\n",
              "<table border=\"1\" class=\"dataframe\">\n",
              "  <thead>\n",
              "    <tr style=\"text-align: right;\">\n",
              "      <th></th>\n",
              "      <th>Question_Text</th>\n",
              "      <th>Question_ID</th>\n",
              "      <th>Euroskepticism_Score</th>\n",
              "      <th>clean_text</th>\n",
              "    </tr>\n",
              "  </thead>\n",
              "  <tbody>\n",
              "    <tr>\n",
              "      <th>487</th>\n",
              "      <td>The EU market is being penetrated to an ever-i...</td>\n",
              "      <td>H-0704/07</td>\n",
              "      <td>0</td>\n",
              "      <td>The EU market penetrated everincreasing extent...</td>\n",
              "    </tr>\n",
              "    <tr>\n",
              "      <th>383</th>\n",
              "      <td>High-voltage power lines 380 kV have been erec...</td>\n",
              "      <td>E-002811-14</td>\n",
              "      <td>0</td>\n",
              "      <td>Highvoltage power line kV erected area Settevi...</td>\n",
              "    </tr>\n",
              "    <tr>\n",
              "      <th>1328</th>\n",
              "      <td>On 13 September Radio Free Europe reported tha...</td>\n",
              "      <td>E-009632/2011</td>\n",
              "      <td>0</td>\n",
              "      <td>On September Radio Free Europe reported Europe...</td>\n",
              "    </tr>\n",
              "    <tr>\n",
              "      <th>2917</th>\n",
              "      <td>Five years ago a pan-European multilingual  pl...</td>\n",
              "      <td>E-014338-13</td>\n",
              "      <td>0</td>\n",
              "      <td>Five year ago panEuropean multilingual platfor...</td>\n",
              "    </tr>\n",
              "    <tr>\n",
              "      <th>1042</th>\n",
              "      <td>With regard to the Raphael Programmes call for...</td>\n",
              "      <td>P-4055/98</td>\n",
              "      <td>0</td>\n",
              "      <td>With regard Raphael Programmes call proposal H...</td>\n",
              "    </tr>\n",
              "  </tbody>\n",
              "</table>\n",
              "</div>"
            ],
            "text/plain": [
              "                                          Question_Text    Question_ID  \\\n",
              "487   The EU market is being penetrated to an ever-i...      H-0704/07   \n",
              "383   High-voltage power lines 380 kV have been erec...    E-002811-14   \n",
              "1328  On 13 September Radio Free Europe reported tha...  E-009632/2011   \n",
              "2917  Five years ago a pan-European multilingual  pl...    E-014338-13   \n",
              "1042  With regard to the Raphael Programmes call for...      P-4055/98   \n",
              "\n",
              "      Euroskepticism_Score                                         clean_text  \n",
              "487                      0  The EU market penetrated everincreasing extent...  \n",
              "383                      0  Highvoltage power line kV erected area Settevi...  \n",
              "1328                     0  On September Radio Free Europe reported Europe...  \n",
              "2917                     0  Five year ago panEuropean multilingual platfor...  \n",
              "1042                     0  With regard Raphael Programmes call proposal H...  "
            ]
          },
          "execution_count": 76,
          "metadata": {},
          "output_type": "execute_result"
        }
      ],
      "source": [
        "train = pd.read_csv(\"../data/split_merged_scores/merged_scores_train.csv\", index_col=0)\n",
        "train.head(5)"
      ]
    },
    {
      "cell_type": "code",
      "execution_count": null,
      "id": "af51051d-25fa-4cf6-abb7-6c715e7f5165",
      "metadata": {
        "id": "af51051d-25fa-4cf6-abb7-6c715e7f5165"
      },
      "outputs": [],
      "source": [
        "from gensim.test.utils import common_texts\n",
        "from gensim.models.doc2vec import Doc2Vec, TaggedDocument"
      ]
    },
    {
      "cell_type": "code",
      "execution_count": null,
      "id": "9e384c2e-e8a7-4b1e-8c22-076d33058d38",
      "metadata": {
        "id": "9e384c2e-e8a7-4b1e-8c22-076d33058d38"
      },
      "outputs": [],
      "source": [
        "documents = [TaggedDocument(doc, [i]) for i, doc in enumerate(train['clean_text'])]\n",
        "model = Doc2Vec(documents, vector_size=1, window=2, min_count=1, workers=4)"
      ]
    },
    {
      "cell_type": "code",
      "execution_count": null,
      "id": "5b0392ff-6a9a-43d5-b6ce-51581e2726e2",
      "metadata": {
        "id": "5b0392ff-6a9a-43d5-b6ce-51581e2726e2",
        "outputId": "47dd8dd4-c90b-4dd9-8153-1e943a3871a7"
      },
      "outputs": [
        {
          "data": {
            "text/html": [
              "<div>\n",
              "<style scoped>\n",
              "    .dataframe tbody tr th:only-of-type {\n",
              "        vertical-align: middle;\n",
              "    }\n",
              "\n",
              "    .dataframe tbody tr th {\n",
              "        vertical-align: top;\n",
              "    }\n",
              "\n",
              "    .dataframe thead th {\n",
              "        text-align: right;\n",
              "    }\n",
              "</style>\n",
              "<table border=\"1\" class=\"dataframe\">\n",
              "  <thead>\n",
              "    <tr style=\"text-align: right;\">\n",
              "      <th></th>\n",
              "      <th>Question_Text</th>\n",
              "      <th>Question_ID</th>\n",
              "      <th>Euroskepticism_Score</th>\n",
              "      <th>clean_text</th>\n",
              "      <th>doc2vec</th>\n",
              "      <th>index</th>\n",
              "    </tr>\n",
              "  </thead>\n",
              "  <tbody>\n",
              "    <tr>\n",
              "      <th>487</th>\n",
              "      <td>The EU market is being penetrated to an ever-i...</td>\n",
              "      <td>H-0704/07</td>\n",
              "      <td>0</td>\n",
              "      <td>The EU market penetrated everincreasing extent...</td>\n",
              "      <td>-0.158460</td>\n",
              "      <td>487</td>\n",
              "    </tr>\n",
              "    <tr>\n",
              "      <th>383</th>\n",
              "      <td>High-voltage power lines 380 kV have been erec...</td>\n",
              "      <td>E-002811-14</td>\n",
              "      <td>0</td>\n",
              "      <td>Highvoltage power line kV erected area Settevi...</td>\n",
              "      <td>0.453566</td>\n",
              "      <td>383</td>\n",
              "    </tr>\n",
              "    <tr>\n",
              "      <th>1328</th>\n",
              "      <td>On 13 September Radio Free Europe reported tha...</td>\n",
              "      <td>E-009632/2011</td>\n",
              "      <td>0</td>\n",
              "      <td>On September Radio Free Europe reported Europe...</td>\n",
              "      <td>0.049087</td>\n",
              "      <td>1328</td>\n",
              "    </tr>\n",
              "    <tr>\n",
              "      <th>2917</th>\n",
              "      <td>Five years ago a pan-European multilingual  pl...</td>\n",
              "      <td>E-014338-13</td>\n",
              "      <td>0</td>\n",
              "      <td>Five year ago panEuropean multilingual platfor...</td>\n",
              "      <td>-0.653505</td>\n",
              "      <td>2917</td>\n",
              "    </tr>\n",
              "    <tr>\n",
              "      <th>1042</th>\n",
              "      <td>With regard to the Raphael Programmes call for...</td>\n",
              "      <td>P-4055/98</td>\n",
              "      <td>0</td>\n",
              "      <td>With regard Raphael Programmes call proposal H...</td>\n",
              "      <td>0.376559</td>\n",
              "      <td>1042</td>\n",
              "    </tr>\n",
              "  </tbody>\n",
              "</table>\n",
              "</div>"
            ],
            "text/plain": [
              "                                          Question_Text    Question_ID  \\\n",
              "487   The EU market is being penetrated to an ever-i...      H-0704/07   \n",
              "383   High-voltage power lines 380 kV have been erec...    E-002811-14   \n",
              "1328  On 13 September Radio Free Europe reported tha...  E-009632/2011   \n",
              "2917  Five years ago a pan-European multilingual  pl...    E-014338-13   \n",
              "1042  With regard to the Raphael Programmes call for...      P-4055/98   \n",
              "\n",
              "      Euroskepticism_Score                                         clean_text  \\\n",
              "487                      0  The EU market penetrated everincreasing extent...   \n",
              "383                      0  Highvoltage power line kV erected area Settevi...   \n",
              "1328                     0  On September Radio Free Europe reported Europe...   \n",
              "2917                     0  Five year ago panEuropean multilingual platfor...   \n",
              "1042                     0  With regard Raphael Programmes call proposal H...   \n",
              "\n",
              "       doc2vec  index  \n",
              "487  -0.158460    487  \n",
              "383   0.453566    383  \n",
              "1328  0.049087   1328  \n",
              "2917 -0.653505   2917  \n",
              "1042  0.376559   1042  "
            ]
          },
          "execution_count": 79,
          "metadata": {},
          "output_type": "execute_result"
        }
      ],
      "source": [
        "train['doc2vec'] = train[\"clean_text\"].apply(lambda x : model.infer_vector(x.split(\" \"))[0])\n",
        "train['index'] = train.index\n",
        "train.head(5)"
      ]
    },
    {
      "cell_type": "markdown",
      "id": "15457365-5d01-4aca-bfbc-55e3d9260d74",
      "metadata": {
        "id": "15457365-5d01-4aca-bfbc-55e3d9260d74"
      },
      "source": [
        "### Desc:\n",
        "Now let's go ahead and create an oversampled version of the data"
      ]
    },
    {
      "cell_type": "code",
      "execution_count": null,
      "id": "35b7eafa-763e-4347-be44-58093907964a",
      "metadata": {
        "id": "35b7eafa-763e-4347-be44-58093907964a"
      },
      "outputs": [],
      "source": [
        "X = train[['index', 'doc2vec']]\n",
        "y = train['Euroskepticism_Score']"
      ]
    },
    {
      "cell_type": "code",
      "execution_count": null,
      "id": "33836dbf-c408-4b13-a768-73ee77264c15",
      "metadata": {
        "id": "33836dbf-c408-4b13-a768-73ee77264c15",
        "outputId": "cb39b9c1-fc6c-48b2-9387-ca1f67b4da31"
      },
      "outputs": [
        {
          "name": "stderr",
          "output_type": "stream",
          "text": [
            "/Users/nicklin/opt/anaconda3/envs/defaultenv/lib/python3.10/site-packages/imblearn/utils/_validation.py:586: FutureWarning: Pass sampling_strategy=0.35 as keyword args. From version 0.9 passing these as positional arguments will result in an error\n",
            "  warnings.warn(\n"
          ]
        }
      ],
      "source": [
        "# oversampler = imblearn.RandomOverSampler(sampling_strategy=0.35)\n",
        "ratio = 0.35\n",
        "x_resampled, y_resampled = imblearn.over_sampling.ADASYN(ratio).fit_resample(X, y)"
      ]
    },
    {
      "cell_type": "code",
      "execution_count": null,
      "id": "cb80d13f-7c71-4fab-9765-f84bd526cc90",
      "metadata": {
        "id": "cb80d13f-7c71-4fab-9765-f84bd526cc90",
        "outputId": "4b6ef449-b5ad-4672-9bae-a35a52f8e441"
      },
      "outputs": [
        {
          "name": "stdout",
          "output_type": "stream",
          "text": [
            "      index   doc2vec\n",
            "0       487 -0.158460\n",
            "1       383  0.453566\n",
            "2      1328  0.049087\n",
            "3      2917 -0.653505\n",
            "4      1042  0.376559\n",
            "...     ...       ...\n",
            "3342   3296 -0.082722\n",
            "3343   3091  0.047377\n",
            "3344   3252 -0.212771\n",
            "3345   3230 -0.335309\n",
            "3346   3199 -0.218456\n",
            "\n",
            "[3347 rows x 2 columns]\n"
          ]
        }
      ],
      "source": [
        "print(x_resampled)"
      ]
    },
    {
      "cell_type": "code",
      "execution_count": null,
      "id": "e6790aa6-d122-481e-b564-22ae3726614a",
      "metadata": {
        "id": "e6790aa6-d122-481e-b564-22ae3726614a",
        "outputId": "7f86cac9-83d7-407f-acf5-82eb59126356"
      },
      "outputs": [
        {
          "data": {
            "text/html": [
              "<div>\n",
              "<style scoped>\n",
              "    .dataframe tbody tr th:only-of-type {\n",
              "        vertical-align: middle;\n",
              "    }\n",
              "\n",
              "    .dataframe tbody tr th {\n",
              "        vertical-align: top;\n",
              "    }\n",
              "\n",
              "    .dataframe thead th {\n",
              "        text-align: right;\n",
              "    }\n",
              "</style>\n",
              "<table border=\"1\" class=\"dataframe\">\n",
              "  <thead>\n",
              "    <tr style=\"text-align: right;\">\n",
              "      <th></th>\n",
              "      <th>index</th>\n",
              "      <th>doc2vec</th>\n",
              "    </tr>\n",
              "  </thead>\n",
              "  <tbody>\n",
              "    <tr>\n",
              "      <th>0</th>\n",
              "      <td>487</td>\n",
              "      <td>-0.158460</td>\n",
              "    </tr>\n",
              "    <tr>\n",
              "      <th>1</th>\n",
              "      <td>383</td>\n",
              "      <td>0.453566</td>\n",
              "    </tr>\n",
              "    <tr>\n",
              "      <th>2</th>\n",
              "      <td>1328</td>\n",
              "      <td>0.049087</td>\n",
              "    </tr>\n",
              "    <tr>\n",
              "      <th>3</th>\n",
              "      <td>2917</td>\n",
              "      <td>-0.653505</td>\n",
              "    </tr>\n",
              "    <tr>\n",
              "      <th>4</th>\n",
              "      <td>1042</td>\n",
              "      <td>0.376559</td>\n",
              "    </tr>\n",
              "  </tbody>\n",
              "</table>\n",
              "</div>"
            ],
            "text/plain": [
              "   index   doc2vec\n",
              "0    487 -0.158460\n",
              "1    383  0.453566\n",
              "2   1328  0.049087\n",
              "3   2917 -0.653505\n",
              "4   1042  0.376559"
            ]
          },
          "execution_count": 84,
          "metadata": {},
          "output_type": "execute_result"
        }
      ],
      "source": [
        "resampled_df = pd.DataFrame(x_resampled)\n",
        "resampled_df.head(5)"
      ]
    },
    {
      "cell_type": "code",
      "execution_count": null,
      "id": "8f12b785-c587-435a-9f2b-1a8f06b4d703",
      "metadata": {
        "id": "8f12b785-c587-435a-9f2b-1a8f06b4d703"
      },
      "outputs": [],
      "source": [
        "X_resampled_final = train.merge(resampled_df, on='index')\n",
        "X_resampled_final = X_resampled_final.drop(\"index\", axis=1)"
      ]
    },
    {
      "cell_type": "code",
      "execution_count": null,
      "id": "5a78f9ea-25a6-4100-a54f-f470e13ea9ae",
      "metadata": {
        "id": "5a78f9ea-25a6-4100-a54f-f470e13ea9ae"
      },
      "outputs": [],
      "source": [
        "X_resampled_final.to_csv(\"../data/oversampled_data/train_adasyn_oversample.csv\")"
      ]
    },
    {
      "cell_type": "code",
      "execution_count": null,
      "id": "d00a7063-e2e3-4edd-af48-7c6ecf6125c5",
      "metadata": {
        "id": "d00a7063-e2e3-4edd-af48-7c6ecf6125c5",
        "outputId": "dfd5f7e3-cc81-4242-bf06-5f4ba62964c1"
      },
      "outputs": [
        {
          "data": {
            "text/html": [
              "<div>\n",
              "<style scoped>\n",
              "    .dataframe tbody tr th:only-of-type {\n",
              "        vertical-align: middle;\n",
              "    }\n",
              "\n",
              "    .dataframe tbody tr th {\n",
              "        vertical-align: top;\n",
              "    }\n",
              "\n",
              "    .dataframe thead th {\n",
              "        text-align: right;\n",
              "    }\n",
              "</style>\n",
              "<table border=\"1\" class=\"dataframe\">\n",
              "  <thead>\n",
              "    <tr style=\"text-align: right;\">\n",
              "      <th></th>\n",
              "      <th>Question_Text</th>\n",
              "      <th>Question_ID</th>\n",
              "      <th>Euroskepticism_Score</th>\n",
              "      <th>clean_text</th>\n",
              "      <th>doc2vec_x</th>\n",
              "      <th>doc2vec_y</th>\n",
              "    </tr>\n",
              "  </thead>\n",
              "  <tbody>\n",
              "    <tr>\n",
              "      <th>0</th>\n",
              "      <td>The EU market is being penetrated to an ever-i...</td>\n",
              "      <td>H-0704/07</td>\n",
              "      <td>0</td>\n",
              "      <td>The EU market penetrated everincreasing extent...</td>\n",
              "      <td>-0.158460</td>\n",
              "      <td>-0.158460</td>\n",
              "    </tr>\n",
              "    <tr>\n",
              "      <th>1</th>\n",
              "      <td>High-voltage power lines 380 kV have been erec...</td>\n",
              "      <td>E-002811-14</td>\n",
              "      <td>0</td>\n",
              "      <td>Highvoltage power line kV erected area Settevi...</td>\n",
              "      <td>0.453566</td>\n",
              "      <td>0.453566</td>\n",
              "    </tr>\n",
              "    <tr>\n",
              "      <th>2</th>\n",
              "      <td>On 13 September Radio Free Europe reported tha...</td>\n",
              "      <td>E-009632/2011</td>\n",
              "      <td>0</td>\n",
              "      <td>On September Radio Free Europe reported Europe...</td>\n",
              "      <td>0.049087</td>\n",
              "      <td>0.049087</td>\n",
              "    </tr>\n",
              "    <tr>\n",
              "      <th>3</th>\n",
              "      <td>Five years ago a pan-European multilingual  pl...</td>\n",
              "      <td>E-014338-13</td>\n",
              "      <td>0</td>\n",
              "      <td>Five year ago panEuropean multilingual platfor...</td>\n",
              "      <td>-0.653505</td>\n",
              "      <td>-0.653505</td>\n",
              "    </tr>\n",
              "    <tr>\n",
              "      <th>4</th>\n",
              "      <td>With regard to the Raphael Programmes call for...</td>\n",
              "      <td>P-4055/98</td>\n",
              "      <td>0</td>\n",
              "      <td>With regard Raphael Programmes call proposal H...</td>\n",
              "      <td>0.376559</td>\n",
              "      <td>0.376559</td>\n",
              "    </tr>\n",
              "  </tbody>\n",
              "</table>\n",
              "</div>"
            ],
            "text/plain": [
              "                                       Question_Text    Question_ID  \\\n",
              "0  The EU market is being penetrated to an ever-i...      H-0704/07   \n",
              "1  High-voltage power lines 380 kV have been erec...    E-002811-14   \n",
              "2  On 13 September Radio Free Europe reported tha...  E-009632/2011   \n",
              "3  Five years ago a pan-European multilingual  pl...    E-014338-13   \n",
              "4  With regard to the Raphael Programmes call for...      P-4055/98   \n",
              "\n",
              "   Euroskepticism_Score                                         clean_text  \\\n",
              "0                     0  The EU market penetrated everincreasing extent...   \n",
              "1                     0  Highvoltage power line kV erected area Settevi...   \n",
              "2                     0  On September Radio Free Europe reported Europe...   \n",
              "3                     0  Five year ago panEuropean multilingual platfor...   \n",
              "4                     0  With regard Raphael Programmes call proposal H...   \n",
              "\n",
              "   doc2vec_x  doc2vec_y  \n",
              "0  -0.158460  -0.158460  \n",
              "1   0.453566   0.453566  \n",
              "2   0.049087   0.049087  \n",
              "3  -0.653505  -0.653505  \n",
              "4   0.376559   0.376559  "
            ]
          },
          "execution_count": 87,
          "metadata": {},
          "output_type": "execute_result"
        }
      ],
      "source": [
        "X_resampled_final.head(5)"
      ]
    },
    {
      "cell_type": "markdown",
      "id": "9f0bb2f5-5317-47c3-b3c6-5d522e783106",
      "metadata": {
        "id": "9f0bb2f5-5317-47c3-b3c6-5d522e783106"
      },
      "source": [
        "### NOTE:\n",
        "\n",
        "This is a separate section where I merely keep stopwords in the clean text version of the datasets."
      ]
    },
    {
      "cell_type": "code",
      "execution_count": null,
      "id": "351a44e5-7aab-4f2e-8b09-7835bb4f13ac",
      "metadata": {
        "id": "351a44e5-7aab-4f2e-8b09-7835bb4f13ac"
      },
      "outputs": [],
      "source": [
        "def clean_text_keep_stopwords(text):\n",
        "    text = remove_punct(text)\n",
        "    text = tokenization(text)\n",
        "    text = lemmatizer(text)\n",
        "    return ' '.join(text)"
      ]
    },
    {
      "cell_type": "code",
      "execution_count": null,
      "id": "ed2ab4ab-ae84-437b-8ab8-5c4a7d0e26a9",
      "metadata": {
        "id": "ed2ab4ab-ae84-437b-8ab8-5c4a7d0e26a9"
      },
      "outputs": [],
      "source": [
        "train_data = pd.read_csv(\"../data/split_merged_scores/merged_scores_train.csv\", index_col=0)\n",
        "validation_data = pd.read_csv(\"../data/split_merged_scores/merged_scores_validation.csv\", index_col=0)\n",
        "test_data = pd.read_csv(\"../data/split_merged_scores/merged_scores_test.csv\", index_col=0)\n",
        "oversampled_data = pd.read_csv(\"../data/oversampled_data/train_adasyn_oversample.csv\", index_col=0)"
      ]
    },
    {
      "cell_type": "code",
      "execution_count": null,
      "id": "46afdbf7-72c5-4e10-a897-913e162b5ed7",
      "metadata": {
        "id": "46afdbf7-72c5-4e10-a897-913e162b5ed7"
      },
      "outputs": [],
      "source": [
        "train_data[\"clean_text_with_stopwords\"] = train_data[\"Question_Text\"].apply(lambda x : clean_text_keep_stopwords(x))\n",
        "validation_data[\"clean_text_with_stopwords\"] = validation_data[\"Question_Text\"].apply(lambda x : clean_text_keep_stopwords(x))\n",
        "test_data[\"clean_text_with_stopwords\"] = test_data[\"Question_Text\"].apply(lambda x : clean_text_keep_stopwords(x))\n",
        "oversampled_data[\"clean_text_with_stopwords\"] = oversampled_data[\"Question_Text\"].apply(lambda x : clean_text_keep_stopwords(x))"
      ]
    },
    {
      "cell_type": "code",
      "execution_count": null,
      "id": "60beb1aa-b743-4d08-a013-a2d3310c71cc",
      "metadata": {
        "id": "60beb1aa-b743-4d08-a013-a2d3310c71cc",
        "outputId": "dbe7f044-db21-4f3b-e449-70124885b478"
      },
      "outputs": [
        {
          "data": {
            "text/html": [
              "<div>\n",
              "<style scoped>\n",
              "    .dataframe tbody tr th:only-of-type {\n",
              "        vertical-align: middle;\n",
              "    }\n",
              "\n",
              "    .dataframe tbody tr th {\n",
              "        vertical-align: top;\n",
              "    }\n",
              "\n",
              "    .dataframe thead th {\n",
              "        text-align: right;\n",
              "    }\n",
              "</style>\n",
              "<table border=\"1\" class=\"dataframe\">\n",
              "  <thead>\n",
              "    <tr style=\"text-align: right;\">\n",
              "      <th></th>\n",
              "      <th>Question_Text</th>\n",
              "      <th>Question_ID</th>\n",
              "      <th>Euroskepticism_Score</th>\n",
              "      <th>clean_text</th>\n",
              "      <th>Parties</th>\n",
              "      <th>Country</th>\n",
              "      <th>clean_text_with_stopwords</th>\n",
              "    </tr>\n",
              "  </thead>\n",
              "  <tbody>\n",
              "    <tr>\n",
              "      <th>487</th>\n",
              "      <td>The EU market is being penetrated to an ever-i...</td>\n",
              "      <td>H-0704/07</td>\n",
              "      <td>0</td>\n",
              "      <td>The EU market penetrated everincreasing extent...</td>\n",
              "      <td>NaN</td>\n",
              "      <td>Slovakia</td>\n",
              "      <td>The EU market is being penetrated to an everin...</td>\n",
              "    </tr>\n",
              "    <tr>\n",
              "      <th>383</th>\n",
              "      <td>High-voltage power lines 380 kV have been erec...</td>\n",
              "      <td>E-002811-14</td>\n",
              "      <td>0</td>\n",
              "      <td>Highvoltage power line kV erected area Settevi...</td>\n",
              "      <td>PPE</td>\n",
              "      <td>Italy</td>\n",
              "      <td>Highvoltage power line kV have been erected in...</td>\n",
              "    </tr>\n",
              "    <tr>\n",
              "      <th>1328</th>\n",
              "      <td>On 13 September Radio Free Europe reported tha...</td>\n",
              "      <td>E-009632/2011</td>\n",
              "      <td>0</td>\n",
              "      <td>On September Radio Free Europe reported Europe...</td>\n",
              "      <td>EFD</td>\n",
              "      <td>Italy</td>\n",
              "      <td>On September Radio Free Europe reported that t...</td>\n",
              "    </tr>\n",
              "    <tr>\n",
              "      <th>2917</th>\n",
              "      <td>Five years ago a pan-European multilingual  pl...</td>\n",
              "      <td>E-014338-13</td>\n",
              "      <td>0</td>\n",
              "      <td>Five year ago panEuropean multilingual platfor...</td>\n",
              "      <td>NI</td>\n",
              "      <td>Spain</td>\n",
              "      <td>Five year ago a panEuropean multilingual platf...</td>\n",
              "    </tr>\n",
              "    <tr>\n",
              "      <th>1042</th>\n",
              "      <td>With regard to the Raphael Programmes call for...</td>\n",
              "      <td>P-4055/98</td>\n",
              "      <td>0</td>\n",
              "      <td>With regard Raphael Programmes call proposal H...</td>\n",
              "      <td>PPE</td>\n",
              "      <td>United Kingdom</td>\n",
              "      <td>With regard to the Raphael Programmes call for...</td>\n",
              "    </tr>\n",
              "  </tbody>\n",
              "</table>\n",
              "</div>"
            ],
            "text/plain": [
              "                                          Question_Text    Question_ID  \\\n",
              "487   The EU market is being penetrated to an ever-i...      H-0704/07   \n",
              "383   High-voltage power lines 380 kV have been erec...    E-002811-14   \n",
              "1328  On 13 September Radio Free Europe reported tha...  E-009632/2011   \n",
              "2917  Five years ago a pan-European multilingual  pl...    E-014338-13   \n",
              "1042  With regard to the Raphael Programmes call for...      P-4055/98   \n",
              "\n",
              "      Euroskepticism_Score                                         clean_text  \\\n",
              "487                      0  The EU market penetrated everincreasing extent...   \n",
              "383                      0  Highvoltage power line kV erected area Settevi...   \n",
              "1328                     0  On September Radio Free Europe reported Europe...   \n",
              "2917                     0  Five year ago panEuropean multilingual platfor...   \n",
              "1042                     0  With regard Raphael Programmes call proposal H...   \n",
              "\n",
              "     Parties         Country  \\\n",
              "487      NaN        Slovakia   \n",
              "383      PPE           Italy   \n",
              "1328     EFD           Italy   \n",
              "2917      NI           Spain   \n",
              "1042     PPE  United Kingdom   \n",
              "\n",
              "                              clean_text_with_stopwords  \n",
              "487   The EU market is being penetrated to an everin...  \n",
              "383   Highvoltage power line kV have been erected in...  \n",
              "1328  On September Radio Free Europe reported that t...  \n",
              "2917  Five year ago a panEuropean multilingual platf...  \n",
              "1042  With regard to the Raphael Programmes call for...  "
            ]
          },
          "execution_count": 11,
          "metadata": {},
          "output_type": "execute_result"
        }
      ],
      "source": [
        "train_data.head(5)"
      ]
    },
    {
      "cell_type": "code",
      "execution_count": null,
      "id": "108a7684-5516-4125-aa9d-1e74705ebc59",
      "metadata": {
        "id": "108a7684-5516-4125-aa9d-1e74705ebc59"
      },
      "outputs": [],
      "source": [
        "train_data.to_csv(\"../data/split_merged_scores/merged_scores_train.csv\")\n",
        "validation_data.to_csv(\"../data/split_merged_scores/merged_scores_validation.csv\")\n",
        "test_data.to_csv(\"../data/split_merged_scores/merged_scores_test.csv\")\n",
        "oversampled_data.to_csv(\"../data/oversampled_data/train_adasyn_oversample.csv\")"
      ]
    },
    {
      "cell_type": "code",
      "execution_count": null,
      "id": "d044e154-285d-48c9-849a-4ff4a924e52f",
      "metadata": {
        "id": "d044e154-285d-48c9-849a-4ff4a924e52f"
      },
      "outputs": [],
      "source": [
        ""
      ]
    }
  ],
  "metadata": {
    "kernelspec": {
      "display_name": "Python 3 (ipykernel)",
      "language": "python",
      "name": "python3"
    },
    "language_info": {
      "codemirror_mode": {
        "name": "ipython",
        "version": 3
      },
      "file_extension": ".py",
      "mimetype": "text/x-python",
      "name": "python",
      "nbconvert_exporter": "python",
      "pygments_lexer": "ipython3",
      "version": "3.10.2"
    },
    "colab": {
      "provenance": []
    }
  },
  "nbformat": 4,
  "nbformat_minor": 5
}